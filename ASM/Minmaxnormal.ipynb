{
 "cells": [
  {
   "cell_type": "code",
   "execution_count": 29,
   "metadata": {},
   "outputs": [],
   "source": [
    "import numpy as np\n",
    "import csv"
   ]
  },
  {
   "cell_type": "code",
   "execution_count": null,
   "metadata": {},
   "outputs": [],
   "source": []
  },
  {
   "cell_type": "code",
   "execution_count": 30,
   "metadata": {},
   "outputs": [],
   "source": [
    "path_apicall = '../Dataset/data/data_apicall/10_reduce_apicall.csv'\n",
    "path_1gram = '../Dataset/data/data_ngram/320_reduce_1gram.csv'\n",
    "path_2gram = '../Dataset/data/data_ngram/600_reduce_2gram.csv'\n",
    "path_section = '../Dataset/data/data_section/366_reduce_section.csv'"
   ]
  },
  {
   "cell_type": "code",
   "execution_count": 32,
   "metadata": {},
   "outputs": [],
   "source": [
    "new_train_data = np.genfromtxt(path_2gram, delimiter=\",\", dtype=str)\n",
    "tra_data= new_train_data[1:,0:-2]\n",
    "tra_lab=new_train_data[1:,-1]\n",
    "tra_name=new_train_data[1:,-2]\n",
    "tra_lab=tra_lab.astype(np.int)\n",
    "tra_data=tra_data.astype(np.float)\n",
    "tra_min=np.min(tra_data,axis=0)\n",
    "tra_max=np.max(tra_data,axis=0)\n",
    "tra_dom=np.subtract(tra_max,tra_min)\n",
    "tra_dom=np.where(tra_dom == 0, 1, tra_dom)\n",
    "img = np.subtract(tra_data,tra_min)\n",
    "img = np.divide(img, tra_dom)\n",
    "img= img.tolist()\n",
    "\n",
    "for i in range(len(tra_lab)):\n",
    "    img[i].append(tra_name[i])\n",
    "    img[i].append(tra_lab[i])\n",
    "\n",
    "\n",
    "myFile = open('../Dataset/data/data_ngram/normal_2gram.csv', 'w', newline='')  \n",
    "\n",
    "with myFile:  \n",
    "    writer = csv.writer(myFile)\n",
    "    writer.writerows(img)"
   ]
  },
  {
   "cell_type": "code",
   "execution_count": null,
   "metadata": {},
   "outputs": [],
   "source": []
  },
  {
   "cell_type": "code",
   "execution_count": null,
   "metadata": {},
   "outputs": [],
   "source": []
  }
 ],
 "metadata": {
  "kernelspec": {
   "display_name": "Python 3",
   "language": "python",
   "name": "python3"
  },
  "language_info": {
   "codemirror_mode": {
    "name": "ipython",
    "version": 3
   },
   "file_extension": ".py",
   "mimetype": "text/x-python",
   "name": "python",
   "nbconvert_exporter": "python",
   "pygments_lexer": "ipython3",
   "version": "3.8.5"
  }
 },
 "nbformat": 4,
 "nbformat_minor": 4
}
