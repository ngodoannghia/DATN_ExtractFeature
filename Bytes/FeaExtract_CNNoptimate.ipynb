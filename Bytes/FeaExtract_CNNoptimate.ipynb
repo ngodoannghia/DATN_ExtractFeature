{
 "cells": [
  {
   "cell_type": "code",
   "execution_count": null,
   "metadata": {},
   "outputs": [],
   "source": [
    "import torch\n",
    "import torch.nn as nn\n",
    "import torch.utils.data as data\n",
    "import numpy as np\n",
    "from cnn_v1 import ConvNet_single\n",
    "from dataloader_csv import CustomDatasetFromImages"
   ]
  },
  {
   "cell_type": "code",
   "execution_count": null,
   "metadata": {},
   "outputs": [],
   "source": [
    "device = torch.device('cuda:0' if torch.cuda.is_available() else 'cpu')\n",
    "if torch.cuda.is_available(): \n",
    "    print(\"gpu availible\")"
   ]
  },
  {
   "cell_type": "code",
   "execution_count": null,
   "metadata": {},
   "outputs": [],
   "source": [
    "num_epochs,num_classes,batch_size,learning_rate = 30, 9,20,0.001"
   ]
  },
  {
   "cell_type": "code",
   "execution_count": null,
   "metadata": {},
   "outputs": [],
   "source": [
    "train_path='../Dataset/Bytes/normal_train.csv'\n",
    "val_path= '../Dataset/Bytes/normal_val.csv'\n",
    "\n",
    "train_data = CustomDatasetFromImages(train_path)\n",
    "val_data = CustomDatasetFromImages(val_path)\n",
    "\n",
    "val_size = 500\n",
    "\n",
    "train_data_loader = data.DataLoader(train_data, batch_size=batch_size,shuffle=True) \n",
    "val_data_loader  = data.DataLoader(val_data, batch_size=val_size, shuffle=True)"
   ]
  },
  {
   "cell_type": "code",
   "execution_count": null,
   "metadata": {},
   "outputs": [],
   "source": [
    "model= ConvNet_single().to(device)\n",
    "criterion = nn.CrossEntropyLoss()\n",
    "optimizer = torch.optim.Adam(model.parameters(), lr=learning_rate)"
   ]
  },
  {
   "cell_type": "code",
   "execution_count": null,
   "metadata": {},
   "outputs": [],
   "source": [
    "path_to_checkpoint='../Dataset/Bytes/model/'\n",
    "check_name='checkpoint.pth.tar'\n",
    "\n",
    "def save_checkpoint(state, is_best, filename,loss):\n",
    "    if is_best:\n",
    "        print (\"=> Saving a new lowest loss : \"+str(loss))\n",
    "        torch.save(state, filename)  # save checkpoint\n",
    "        "
   ]
  },
  {
   "cell_type": "code",
   "execution_count": null,
   "metadata": {},
   "outputs": [],
   "source": [
    "total_step = len(train_data_loader)\n",
    "lowest_loss=0.800\n",
    "\n",
    "for epoch in range(num_epochs):\n",
    "    for i, (images, labels) in enumerate(train_data_loader):\n",
    "        images = images.to(device)\n",
    "        labels = labels.to(device)\n",
    "# Forward pass\n",
    "        outputs = model(images)\n",
    "        _, predicted = torch.max(outputs.data, 1)\n",
    "        loss = criterion(outputs, labels)\n",
    "        x=np.array((predicted==labels).cpu())\n",
    "# Backward and optimize\n",
    "        optimizer.zero_grad() \n",
    "        loss.backward()\n",
    "        optimizer.step()\n",
    "        val_loss_list=[]\n",
    "        val_acc_list =[]\n",
    "# Doing validation  \n",
    "        for y,(images,labels) in enumerate(val_data_loader):\n",
    "            images=images.to(device)\n",
    "            labels=labels.to(device)\n",
    "            outputs=model(images)\n",
    "            _, predicted = torch.max(outputs.data, 1)\n",
    "            val_loss = criterion(outputs, labels)\n",
    "            val_loss_list.append(val_loss.item())\n",
    "            val_x=np.array((predicted==labels).cpu())\n",
    "            val_acc=(sum(val_x))*100/len(val_x)\n",
    "            val_acc_list.append(val_acc)\n",
    "        mean_loss= np.mean(np.array(val_loss_list))\n",
    "        mean_acc = np.mean(np.array(val_acc_list))\n",
    "        is_best= bool(mean_loss<lowest_loss)\n",
    "# If validation results are good then previous loss new state of the model will be save\n",
    "        if(is_best):\n",
    "            lowest_loss= min(mean_loss,lowest_loss)\n",
    "            pathe= path_to_checkpoint+str(lowest_loss)+\" \"+str(epoch+1)+\" \"+check_name\n",
    "            save_checkpoint({'epoch':epoch + 1,'state_dict': model.state_dict(),'lowest_loss': lowest_loss }, is_best,pathe,lowest_loss)\n",
    "            is_best= False\n",
    "\n",
    "        print(\"Epoch [\"+str(epoch+1)+\"/\"+str(num_epochs)+\"],Batch_no[\"+str(i+1)+\"/\"+str(total_step)+\"] \"+\"Loss:\"+str(format(loss.item(),'.4f'))+\" Acc :\"+str(format((sum(x))*100/len(x),'.4f'))+\" Val_loss:\"+str(format(mean_loss,'.4f'))+\" Val_acc:\"+str(format(mean_acc,'.0f')))"
   ]
  }
 ],
 "metadata": {
  "kernelspec": {
   "display_name": "Python 3",
   "language": "python",
   "name": "python3"
  },
  "language_info": {
   "codemirror_mode": {
    "name": "ipython",
    "version": 3
   },
   "file_extension": ".py",
   "mimetype": "text/x-python",
   "name": "python",
   "nbconvert_exporter": "python",
   "pygments_lexer": "ipython3",
   "version": "3.8.5"
  }
 },
 "nbformat": 4,
 "nbformat_minor": 4
}
