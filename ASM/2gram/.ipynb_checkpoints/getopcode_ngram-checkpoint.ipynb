{
 "cells": [
  {
   "cell_type": "code",
   "execution_count": null,
   "metadata": {},
   "outputs": [],
   "source": [
    "from collections import Counter\n",
    "from os import listdir\n",
    "import csv\n",
    "from time import time\n",
    "from random import randint"
   ]
  },
  {
   "cell_type": "raw",
   "metadata": {},
   "source": [
    "Load dirtionary Opcode"
   ]
  },
  {
   "cell_type": "code",
   "execution_count": 40,
   "metadata": {},
   "outputs": [],
   "source": [
    "lists = []\n",
    "with open('../Dataset/opcode.txt', 'r') as f:\n",
    "    data = f.readlines()\n",
    "    for line in data:\n",
    "        tem = line.split()[0].strip(',').lower()\n",
    "        lists.append(tem)\n",
    "lists = set(lists)\n",
    "with open('../Dataset/dic_opcodes.txt', 'w') as f_w:\n",
    "    for i in lists:\n",
    "        f_w.write(i +  '\\n')"
   ]
  },
  {
   "cell_type": "code",
   "execution_count": 26,
   "metadata": {},
   "outputs": [
    {
     "name": "stdout",
     "output_type": "stream",
     "text": [
      "['aaa', 'aad', 'aam', 'aas', 'adc', 'add', 'and', 'arpl', 'bound', 'bsf', 'bsr', 'bswap', 'bt', 'btc', 'btr', 'bts', 'call', 'cbw', 'cdq', 'clc', 'cld', 'cli', 'clts', 'cmc', 'cmp', 'cmps', 'cmpxchg', 'cwd', 'cwde', 'daa', 'das', 'dec', 'div', 'enter', 'esc', 'hlt', 'idiv', 'imul', 'in', 'inc', 'ins', 'int', 'into', 'invd', 'invlpg', 'iret', 'iretd', 'ja', 'jnbe', 'jae', 'jnb', 'jb', 'jnae', 'jbe', 'jna', 'jc', 'jcxz', 'jecxz', 'je', 'jz', 'jg', 'jnle', 'jge', 'jnl', 'jl', 'jnge', 'jle', 'jng', 'jmp', 'jnc', 'jne', 'jnz', 'jno', 'jns', 'jnp', 'jpo', 'jo', 'jp', 'jpe', 'js', 'lahf', 'lar', 'lds', 'lea', 'leave', 'les', 'lfs', 'lgdt', 'lidt', 'lgs', 'lldt', 'lmsw', 'lock', 'lods', 'loop', 'loope', 'loopz', 'loopnz', 'loopne', 'lsl', 'lss', 'ltr', 'mov', 'movs', 'movsx', 'movzx', 'mul', 'neg', 'nop', 'not', 'or', 'out', 'outs', 'pop', 'popa', 'popad', 'popf', 'popfd', 'push', 'pusha', 'pushad', 'pushf', 'pushfd', 'rcl', 'rcr', 'rep', 'repe', 'repz', 'repne', 'repnz', 'ret', 'retf', 'rol', 'ror', 'sahf', 'sal', 'shl', 'sar', 'sbb', 'scas', 'setae', 'setnb', 'setb', 'setnae', 'setbe', 'setna', 'sete', 'setz', 'setne', 'setnz', 'setl', 'setnge', 'setge', 'setnl', 'setle', 'setng', 'setg', 'setnle', 'sets', 'setns', 'setc', 'setnc', 'seto', 'setno', 'setp', 'setpe', 'setnp', 'setpo', 'sgdt', 'sidt', 'shr', 'shld', 'shrd', 'sldt', 'smsw', 'stc', 'std', 'sti', 'stos', 'str', 'sub', 'test', 'verr', 'verw', 'wait', 'fwait', 'wbinvd', 'xchg', 'xlat', 'xlatb', 'xor']\n",
      "191\n"
     ]
    }
   ],
   "source": [
    "dic_opcode = []\n",
    "with open('../Dataset/dic_opcode.txt') as f:\n",
    "    data = f.readlines()\n",
    "    for op in data:\n",
    "        op = op.strip('\\n').lower()\n",
    "        dic_opcode.append(op)\n",
    "print(dic_opcode)\n",
    "print(len(dic_opcode))"
   ]
  },
  {
   "cell_type": "code",
   "execution_count": 28,
   "metadata": {},
   "outputs": [
    {
     "name": "stdout",
     "output_type": "stream",
     "text": [
      "192\n"
     ]
    }
   ],
   "source": [
    "INSTR_SET = ['mov', 'xchg', 'stc', 'clc', 'cmc', 'std', 'cld', 'sti', 'cli', 'push', 'pushf', 'pusha', 'pop', 'popf', 'popa', 'ccombw', 'cwd', 'cwde', 'in', 'out', 'add', 'adc', 'sub', 'sbb', 'div', 'idiv', 'mul', 'imul', 'inc', 'dec', 'cmp', 'sal', 'sar', 'rcl', 'rcr', 'rol', 'ror', 'neg', 'not', 'and', 'or', 'xor', 'shl', 'shr', 'nop', 'lea', 'int', 'call', 'jmp', 'je', 'jz', 'jcxz', 'jp', 'jpe', 'ja', 'jae', 'jb', 'jbe', 'jna', 'jnae', 'jnb', 'jnbe', 'jc', 'jnc', 'ret', 'jne', 'jnz', 'jecxz', 'jnp', 'jpo', 'jg', 'jge', 'jl', 'jle', 'jng', 'jnge', 'jnl', 'jnle', 'jo', 'jno', 'js', 'jns', 'jns', 'popa', 'rol', 'popf', 'jnz', 'imul', 'lds', 'jna', 'jng', 'jno', 'jnl', 'arpl', 'cli', 'cld', 'clc', 'add', 'adc', 'scasd', 'scasb', 'daa', 'mov', 'das', 'nop', 'repne', 'jnc', 'cmc', 'leave', 'jmpf', 'cmp', 'hlt', 'loope', 'pusha', 'pushf', 'out', 'xor', 'sub', 'rep', 'ret', 'jecxz', 'xchg', 'cwd', 'lea', 'jz', 'jp', 'js', 'jl', 'jo', 'jg', 'ja', 'jc', 'sbb', 'sahf', 'stosb', 'movsd', 'movsb', 'les', 'xlat', 'or', 'into', 'bound', 'pop', 'fildl', 'retf', 'retn', 'fadds', 'faddl', 'call', 'wait', 'sldt', 'fiaddl', 'jmp', 'int1', 'int3', 'std', 'aad', 'aaa', 'stc', 'aam', 'sti', 'aas', 'lahf', 'dec', 'loop', 'and', 'jpo', 'int', 'lock', 'in', 'flds', 'fldl', 'cbw', 'fild', 'inc', 'cmpsb', 'callf', 'cmpsd', 'test', 'fiadd', 'stosd', 'insb', 'outsv', 'iret', 'outsb', 'insv', 'loopne', 'salc', 'lodsb', 'lodsd', 'enter', 'push']\n",
    "print(len(INSTR_SET))"
   ]
  },
  {
   "cell_type": "code",
   "execution_count": 37,
   "metadata": {},
   "outputs": [
    {
     "name": "stdout",
     "output_type": "stream",
     "text": [
      "220\n"
     ]
    }
   ],
   "source": [
    "dic_opcodes = []\n",
    "for i in dic_opcode:\n",
    "    dic_opcodes.append(i)\n",
    "for i in INSTR_SET:\n",
    "    if i not in dic_opcodes:\n",
    "        dic_opcodes.append(i)\n",
    "print(len(dic_opcodes))"
   ]
  },
  {
   "cell_type": "code",
   "execution_count": 8,
   "metadata": {},
   "outputs": [],
   "source": [
    "UNKNOWN = \"unk\"\n",
    "labels_file = \"../Dataset/trainLabels.csv\""
   ]
  },
  {
   "cell_type": "code",
   "execution_count": 9,
   "metadata": {},
   "outputs": [],
   "source": [
    "def get_opcodes_from_asm_file(file_path):\n",
    "    opcodes = []\n",
    "    with open(file_path, encoding='ISO-8859-1') as f:\n",
    "        lines = f.readlines()\n",
    "        for line in lines:\n",
    "            if not line.startswith(\".text\") and not line.startswith(\"CODE\"):\n",
    "                continue\n",
    "            line = line.split()\n",
    "            if len(line) < 3:  # no opcode\n",
    "                continue\n",
    "            for s in line[1:]:\n",
    "                if s in INSTR_SET:\n",
    "                    opcodes.append(s)\n",
    "                    break\n",
    "                elif s == ';':\n",
    "                    break\n",
    "    return opcodes"
   ]
  },
  {
   "cell_type": "code",
   "execution_count": 14,
   "metadata": {},
   "outputs": [],
   "source": [
    "opcode = get_opcodes_from_asm_file('E:/train/train/0A32eTdBKayjCWhZqDOQ.asm')"
   ]
  },
  {
   "cell_type": "code",
   "execution_count": null,
   "metadata": {},
   "outputs": [],
   "source": []
  },
  {
   "cell_type": "code",
   "execution_count": 5,
   "metadata": {},
   "outputs": [],
   "source": [
    "def make_ngrams(opcodes, n):    \n",
    "    return [tuple(opcodes[i:i + n]) for i in range(len(opcodes) - n)]"
   ]
  },
  {
   "cell_type": "code",
   "execution_count": null,
   "metadata": {},
   "outputs": [],
   "source": [
    "def get_all_possible_ngrams_from_files(ngrams_lists, ns, use_unknown=True, unknown_precent=0.01):\n",
    "    ngrams_lists = {n: [ngram for f in l for ngram in f]\n",
    "                    for n, l in ngrams_lists.items()}\n",
    "    ngrams_sets = {n: set(l) for n, l in ngrams_lists.items()}\n",
    "    if use_unknown:\n",
    "        counters = Counter([ngram for n in ns for ngram in ngrams_lists[n]])\n",
    "        not_used = counters.most_common()[:int(-unknown_precent * len(counters)) - 1:-1]\n",
    "        for ngram in not_used:\n",
    "            n = len(ngram[0])\n",
    "            ngrams_sets[n].discard(ngram[0])\n",
    "\n",
    "    i2ngram = [ngram for n in sorted(list(ngrams_sets.keys()))\n",
    "               for ngram in sorted(list(ngrams_sets[n]))]\n",
    "    if use_unknown:\n",
    "        i2ngram.append(UNKNOWN)\n",
    "    ngram2i = {ngram: i for i, ngram in enumerate(i2ngram)}\n",
    "    return ngrams_sets, i2ngram, ngram2i"
   ]
  },
  {
   "cell_type": "code",
   "execution_count": 20,
   "metadata": {},
   "outputs": [],
   "source": []
  },
  {
   "cell_type": "code",
   "execution_count": null,
   "metadata": {},
   "outputs": [],
   "source": []
  }
 ],
 "metadata": {
  "kernelspec": {
   "display_name": "Python 3",
   "language": "python",
   "name": "python3"
  },
  "language_info": {
   "codemirror_mode": {
    "name": "ipython",
    "version": 3
   },
   "file_extension": ".py",
   "mimetype": "text/x-python",
   "name": "python",
   "nbconvert_exporter": "python",
   "pygments_lexer": "ipython3",
   "version": "3.8.5"
  }
 },
 "nbformat": 4,
 "nbformat_minor": 4
}
