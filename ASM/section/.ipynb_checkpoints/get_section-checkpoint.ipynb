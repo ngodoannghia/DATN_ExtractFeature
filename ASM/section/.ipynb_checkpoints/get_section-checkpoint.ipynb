{
 "cells": [
  {
   "cell_type": "code",
   "execution_count": 35,
   "metadata": {},
   "outputs": [],
   "source": [
    "import numpy as np\n",
    "import sys"
   ]
  },
  {
   "cell_type": "code",
   "execution_count": 36,
   "metadata": {},
   "outputs": [],
   "source": [
    "data_path = \"E:/train/train/\"\n",
    "to_save = \"../Dataset/data/section/\"\n",
    "c_files = []\n",
    "files_not_parsed = []\n",
    "dic_section = []"
   ]
  },
  {
   "cell_type": "code",
   "execution_count": 37,
   "metadata": {},
   "outputs": [],
   "source": [
    "malwarelist = np.genfromtxt('../Dataset/trainLabels.csv', delimiter=\",\", dtype=str)\n",
    "malwarelist = malwarelist[1:]"
   ]
  },
  {
   "cell_type": "code",
   "execution_count": 38,
   "metadata": {},
   "outputs": [
    {
     "name": "stdout",
     "output_type": "stream",
     "text": [
      "['\"01kcPWA9K2BOxQeS5Rju\"' '1']\n",
      "[]\n",
      "[]\n",
      "vao\n",
      "vao\n",
      "HEADER:10000000\t\t\t\t\t\t\t;\n",
      "\n",
      "finish file  1\n"
     ]
    },
    {
     "ename": "SystemExit",
     "evalue": "",
     "output_type": "error",
     "traceback": [
      "An exception has occurred, use %tb to see the full traceback.\n",
      "\u001b[1;31mSystemExit\u001b[0m\n"
     ]
    }
   ],
   "source": [
    "count = 0\n",
    "for name in malwarelist:\n",
    "    print(name)\n",
    "    head = {}\n",
    "    nam = name[0].strip('\"')\n",
    "    print(c_files)\n",
    "    print(files_not_parsed)\n",
    "    if nam not in c_files:\n",
    "        if nam not in files_not_parsed:\n",
    "            print('vao')\n",
    "            nam = str(nam)\n",
    "            nam_asm = data_path + nam + \".asm\"\n",
    "            nam_section = to_save + nam + \".txt\"\n",
    "            try:\n",
    "                with open(nam_asm, encoding='ISO-8859-1') as f:\n",
    "                    print('vao')\n",
    "                    lines = f.readlines()\n",
    "                    print(lines[0])\n",
    "                    for source_line in lines:\n",
    "                        if source_line == \"\\n\":\n",
    "                            continue\n",
    "                        xx = source_line.split()\n",
    "                        h = xx[0].split(':')\n",
    "                        if h[0] not in head:\n",
    "                            head[h[0]] = 0\n",
    "                        head[h[0]] += 1\n",
    "                    for i in head:\n",
    "                        print(str(i) + \" \" + head[i])\n",
    "#                 with open(nam_section, 'a') as file_section:\n",
    "#                     for i in head:\n",
    "#                         file_section.write(str(i) + ' ' + str(head[i]) + '\\n')\n",
    "#                         print(str(i) + \" \" + head[i])\n",
    "                c_files.append(nam)\n",
    "            except:\n",
    "                files_not_parsed.append(nam)\n",
    "    print(\"finish file \", count + 1)\n",
    "    count += 1\n",
    "    sys.exit()"
   ]
  },
  {
   "cell_type": "code",
   "execution_count": null,
   "metadata": {},
   "outputs": [],
   "source": []
  }
 ],
 "metadata": {
  "kernelspec": {
   "display_name": "Python 3",
   "language": "python",
   "name": "python3"
  },
  "language_info": {
   "codemirror_mode": {
    "name": "ipython",
    "version": 3
   },
   "file_extension": ".py",
   "mimetype": "text/x-python",
   "name": "python",
   "nbconvert_exporter": "python",
   "pygments_lexer": "ipython3",
   "version": "3.8.3"
  }
 },
 "nbformat": 4,
 "nbformat_minor": 4
}
