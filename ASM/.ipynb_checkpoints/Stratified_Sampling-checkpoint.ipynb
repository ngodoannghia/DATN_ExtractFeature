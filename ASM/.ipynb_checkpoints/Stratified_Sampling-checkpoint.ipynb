{
 "cells": [
  {
   "cell_type": "code",
   "execution_count": 1,
   "metadata": {},
   "outputs": [],
   "source": [
    "import numpy\n",
    "import random\n",
    "import csv\n",
    "from math import floor"
   ]
  },
  {
   "cell_type": "code",
   "execution_count": 18,
   "metadata": {},
   "outputs": [],
   "source": [
    "def stratifed_data(target_file, new_file, spliting_rate=0.2):\n",
    "\n",
    "#Section 1\n",
    "    trainlabel = numpy.genfromtxt(target_file, delimiter=\",\", dtype=str)\n",
    "    FileName = trainlabel[1:, -2]\n",
    "    dat = trainlabel[1:, 0:-2]\n",
    "    dat = dat.astype(numpy.float)\n",
    "    \n",
    "    Label = trainlabel[1:, -1]\n",
    "    Label = Label.astype(numpy.int)\n",
    "    dat = dat.tolist()\n",
    "    \n",
    "    FileName = FileName.tolist()\n",
    "    Label = Label.tolist()\n",
    "    \n",
    "#Section 2\n",
    "    record = []\n",
    "    b = []\n",
    "    count = 0\n",
    "    temp = []\n",
    "    starting_index = 0\n",
    "    \n",
    "    for i in Label:\n",
    "        if i not in b:\n",
    "            if starting_index != 0:\n",
    "                temp.append(count)\n",
    "                record.append(temp)\n",
    "                temp = []\n",
    "                count = 0\n",
    "            b.append(i)\n",
    "            temp.append(i)\n",
    "            temp.append(starting_index)\n",
    "        count += 1\n",
    "        starting_index += 1\n",
    "    temp.append(count)\n",
    "    record.append(temp)\n",
    "\n",
    "#Section 3\n",
    "    stratified_sample = []\n",
    "    for i in record:\n",
    "        count = 0\n",
    "        temp = []\n",
    "        while count <= floor(i[2] * spliting_rate):\n",
    "            a = random.randint(i[1], (i[1] + i[2] - 1))\n",
    "            if a not in temp:\n",
    "                count += 1\n",
    "                temp.append(a)\n",
    "        stratified_sample.append(temp)\n",
    "\n",
    "#Section 4\n",
    "    data_to_write = []\n",
    "    count = 0\n",
    "    c = 0\n",
    "    for i in stratified_sample:\n",
    "        c += 1\n",
    "        print('Class ', c, 'Sample = ', len(i))\n",
    "        count += len(i)\n",
    "        for j in i:\n",
    "            a= dat[j]\n",
    "            a.append(FileName[j].strip('\"'))\n",
    "            a.append(Label[j])\n",
    "            data_to_write.append(a)\n",
    "    print('Total samples ', count)\n",
    "    \n",
    "    myFile = open(new_file, 'w', newline='')\n",
    "    with myFile:\n",
    "        writer = csv.writer(myFile)\n",
    "        writer.writerows(data_to_write)"
   ]
  },
  {
   "cell_type": "code",
   "execution_count": 19,
   "metadata": {},
   "outputs": [],
   "source": [
    "def train_vadilation_split(data_csv, train_csv, vadilation_csv, traning_data_rate =0.5):\n",
    "    data_to_write = []\n",
    "    to_list = []\n",
    "    \n",
    "    stratifed_data(data_csv, train_csv, traning_data_rate)\n",
    "    \n",
    "    new_train_data = numpy.genfromtxt(train_csv, delimiter=\",\", dtype = str)\n",
    "    new_whole_data = numpy.genfromtxt(data_csv, delimiter=\",\", dtype = str)\n",
    "    \n",
    "    for i in new_train_data:\n",
    "        to_list.append(i[-2]) \n",
    "    \n",
    "    for i in new_whole_data:\n",
    "        a = i[-2].strip('\"')\n",
    "        if a not in to_list:\n",
    "            data_to_write.append(i)\n",
    "    \n",
    "    myFile = open(validation_csv, 'w', newline='')\n",
    "    \n",
    "    with myFile:\n",
    "        writer = csv.writer(myFile)\n",
    "        writer.writerows(data_to_write)"
   ]
  },
  {
   "cell_type": "code",
   "execution_count": 20,
   "metadata": {},
   "outputs": [
    {
     "name": "stdout",
     "output_type": "stream",
     "text": [
      "--------------------\n"
     ]
    },
    {
     "ename": "NameError",
     "evalue": "name 'staring_index' is not defined",
     "output_type": "error",
     "traceback": [
      "\u001b[1;31m---------------------------------------------------------------------------\u001b[0m",
      "\u001b[1;31mNameError\u001b[0m                                 Traceback (most recent call last)",
      "\u001b[1;32m<ipython-input-20-54798cc91b6f>\u001b[0m in \u001b[0;36m<module>\u001b[1;34m\u001b[0m\n\u001b[0;32m      6\u001b[0m \u001b[1;33m\u001b[0m\u001b[0m\n\u001b[0;32m      7\u001b[0m \u001b[0mprint\u001b[0m\u001b[1;33m(\u001b[0m\u001b[1;34m'--------------------'\u001b[0m\u001b[1;33m)\u001b[0m\u001b[1;33m\u001b[0m\u001b[1;33m\u001b[0m\u001b[0m\n\u001b[1;32m----> 8\u001b[1;33m \u001b[0mtrain_vadilation_split\u001b[0m\u001b[1;33m(\u001b[0m\u001b[0mdata\u001b[0m\u001b[1;33m,\u001b[0m \u001b[0mtrain_full\u001b[0m\u001b[1;33m,\u001b[0m \u001b[0mtest\u001b[0m\u001b[1;33m,\u001b[0m \u001b[1;36m0.75\u001b[0m\u001b[1;33m)\u001b[0m\u001b[1;33m\u001b[0m\u001b[1;33m\u001b[0m\u001b[0m\n\u001b[0m\u001b[0;32m      9\u001b[0m \u001b[0mprint\u001b[0m\u001b[1;33m(\u001b[0m\u001b[1;34m'--------------------'\u001b[0m\u001b[1;33m)\u001b[0m\u001b[1;33m\u001b[0m\u001b[1;33m\u001b[0m\u001b[0m\n\u001b[0;32m     10\u001b[0m \u001b[0mtrain_vadilation_split\u001b[0m\u001b[1;33m(\u001b[0m\u001b[0mtrain_full\u001b[0m\u001b[1;33m,\u001b[0m \u001b[0mtrain\u001b[0m\u001b[1;33m,\u001b[0m \u001b[0mvalid\u001b[0m\u001b[1;33m,\u001b[0m \u001b[1;36m0.75\u001b[0m\u001b[1;33m)\u001b[0m\u001b[1;33m\u001b[0m\u001b[1;33m\u001b[0m\u001b[0m\n",
      "\u001b[1;32m<ipython-input-19-e534fab0fdb0>\u001b[0m in \u001b[0;36mtrain_vadilation_split\u001b[1;34m(data_csv, train_csv, vadilation_csv, traning_data_rate)\u001b[0m\n\u001b[0;32m      3\u001b[0m     \u001b[0mto_list\u001b[0m \u001b[1;33m=\u001b[0m \u001b[1;33m[\u001b[0m\u001b[1;33m]\u001b[0m\u001b[1;33m\u001b[0m\u001b[1;33m\u001b[0m\u001b[0m\n\u001b[0;32m      4\u001b[0m \u001b[1;33m\u001b[0m\u001b[0m\n\u001b[1;32m----> 5\u001b[1;33m     \u001b[0mstratifed_data\u001b[0m\u001b[1;33m(\u001b[0m\u001b[0mdata_csv\u001b[0m\u001b[1;33m,\u001b[0m \u001b[0mtrain_csv\u001b[0m\u001b[1;33m,\u001b[0m \u001b[0mtraning_data_rate\u001b[0m\u001b[1;33m)\u001b[0m\u001b[1;33m\u001b[0m\u001b[1;33m\u001b[0m\u001b[0m\n\u001b[0m\u001b[0;32m      6\u001b[0m \u001b[1;33m\u001b[0m\u001b[0m\n\u001b[0;32m      7\u001b[0m     \u001b[0mnew_train_data\u001b[0m \u001b[1;33m=\u001b[0m \u001b[0mnumpy\u001b[0m\u001b[1;33m.\u001b[0m\u001b[0mgenfromtxt\u001b[0m\u001b[1;33m(\u001b[0m\u001b[0mtrain_csv\u001b[0m\u001b[1;33m,\u001b[0m \u001b[0mdelimiter\u001b[0m\u001b[1;33m=\u001b[0m\u001b[1;34m\",\"\u001b[0m\u001b[1;33m,\u001b[0m \u001b[0mdtype\u001b[0m \u001b[1;33m=\u001b[0m \u001b[0mstr\u001b[0m\u001b[1;33m)\u001b[0m\u001b[1;33m\u001b[0m\u001b[1;33m\u001b[0m\u001b[0m\n",
      "\u001b[1;32m<ipython-input-18-0d3d7f3db9cf>\u001b[0m in \u001b[0;36mstratifed_data\u001b[1;34m(target_file, new_file, spliting_rate)\u001b[0m\n\u001b[0;32m     30\u001b[0m             \u001b[0mb\u001b[0m\u001b[1;33m.\u001b[0m\u001b[0mappend\u001b[0m\u001b[1;33m(\u001b[0m\u001b[0mi\u001b[0m\u001b[1;33m)\u001b[0m\u001b[1;33m\u001b[0m\u001b[1;33m\u001b[0m\u001b[0m\n\u001b[0;32m     31\u001b[0m             \u001b[0mtemp\u001b[0m\u001b[1;33m.\u001b[0m\u001b[0mappend\u001b[0m\u001b[1;33m(\u001b[0m\u001b[0mi\u001b[0m\u001b[1;33m)\u001b[0m\u001b[1;33m\u001b[0m\u001b[1;33m\u001b[0m\u001b[0m\n\u001b[1;32m---> 32\u001b[1;33m             \u001b[0mtemp\u001b[0m\u001b[1;33m.\u001b[0m\u001b[0mappend\u001b[0m\u001b[1;33m(\u001b[0m\u001b[0mstaring_index\u001b[0m\u001b[1;33m)\u001b[0m\u001b[1;33m\u001b[0m\u001b[1;33m\u001b[0m\u001b[0m\n\u001b[0m\u001b[0;32m     33\u001b[0m         \u001b[0mcount\u001b[0m \u001b[1;33m+=\u001b[0m \u001b[1;36m1\u001b[0m\u001b[1;33m\u001b[0m\u001b[1;33m\u001b[0m\u001b[0m\n\u001b[0;32m     34\u001b[0m         \u001b[0mstarting_index\u001b[0m \u001b[1;33m+=\u001b[0m \u001b[1;36m1\u001b[0m\u001b[1;33m\u001b[0m\u001b[1;33m\u001b[0m\u001b[0m\n",
      "\u001b[1;31mNameError\u001b[0m: name 'staring_index' is not defined"
     ]
    }
   ],
   "source": [
    "data = '../Dataset/data/data_apicall/10_reduce_apicall.csv'\n",
    "train_full = '../Dataset/data/data_apicall/train_full.csv'\n",
    "test = '../Dataset/data/data_apicall/test.csv'\n",
    "train = '../Dataset/data/data_apicall/train.csv'\n",
    "valid = '../Dataset/data/data_apicall/val.csv'\n",
    "\n",
    "print('--------------------')\n",
    "train_vadilation_split(data, train_full, test, 0.75)\n",
    "print('--------------------')\n",
    "train_vadilation_split(train_full, train, valid, 0.75)"
   ]
  },
  {
   "cell_type": "code",
   "execution_count": null,
   "metadata": {},
   "outputs": [],
   "source": []
  }
 ],
 "metadata": {
  "kernelspec": {
   "display_name": "Python 3",
   "language": "python",
   "name": "python3"
  },
  "language_info": {
   "codemirror_mode": {
    "name": "ipython",
    "version": 3
   },
   "file_extension": ".py",
   "mimetype": "text/x-python",
   "name": "python",
   "nbconvert_exporter": "python",
   "pygments_lexer": "ipython3",
   "version": "3.8.3"
  }
 },
 "nbformat": 4,
 "nbformat_minor": 4
}
