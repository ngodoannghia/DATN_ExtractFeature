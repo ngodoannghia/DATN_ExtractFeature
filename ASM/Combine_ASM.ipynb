{
 "cells": [
  {
   "cell_type": "code",
   "execution_count": 101,
   "metadata": {},
   "outputs": [],
   "source": [
    "import csv\n",
    "import sys"
   ]
  },
  {
   "cell_type": "code",
   "execution_count": 88,
   "metadata": {},
   "outputs": [],
   "source": [
    "path_apicall = '../Dataset/data/data_apicall/normal_apicall.csv'\n",
    "path_section = '../Dataset/data/data_section/normal_section.csv'\n",
    "path_1gram = '../Dataset/data/data_ngram/normal_1gram.csv'\n",
    "path_2gram = '../Dataset/data/data_ngram/normal_2gram.csv'"
   ]
  },
  {
   "cell_type": "code",
   "execution_count": 98,
   "metadata": {},
   "outputs": [],
   "source": [
    "sections = []\n",
    "apicalls = []\n",
    "grams_1 = []\n",
    "grams_2 = []\n",
    "with open(path_section, 'r') as f_section:\n",
    "    data_section = csv.reader(f_section)\n",
    "    for row in data_section:\n",
    "        sections.append(row)\n",
    "with open(path_apicall, 'r') as f_apicall:\n",
    "    data_apicall = csv.reader(f_apicall)\n",
    "    for row in data_apicall:\n",
    "        apicalls.append(row)\n",
    "with open(path_1gram, 'r') as f_1gram:\n",
    "    data_1gram = csv.reader(f_1gram)\n",
    "    for row in data_1gram:\n",
    "        grams_1.append(row)\n",
    "with open(path_2gram, 'r') as f_2gram:\n",
    "    data_2gram = csv.reader(f_2gram)\n",
    "    for row in data_2gram:\n",
    "        grams_2.append(row)"
   ]
  },
  {
   "cell_type": "code",
   "execution_count": 120,
   "metadata": {},
   "outputs": [
    {
     "name": "stdout",
     "output_type": "stream",
     "text": [
      "05EeG39MTRrI6VY21DPd\n",
      "sec = 368\n",
      "api = 559\n",
      "grams_1 =  247\n",
      "grams_2 =  602\n"
     ]
    }
   ],
   "source": [
    "print(sections[2][-2])\n",
    "print('sec =', len(sections[0]))\n",
    "print('api =', len(apicalls[0]))\n",
    "print('grams_1 = ', len(grams_1[0]))\n",
    "print('grams_2 = ', len(grams_2[0]))"
   ]
  },
  {
   "cell_type": "code",
   "execution_count": 116,
   "metadata": {},
   "outputs": [],
   "source": [
    "data_to_write = []\n",
    "tm = []\n",
    "for i in sections[0][0:-2]:\n",
    "    tm.append(i)\n",
    "for i in apicalls[0][0:-2]:\n",
    "    tm.append(i)\n",
    "for i in grams_1[0][0:-2]:\n",
    "    tm.append(i)\n",
    "for i in grams_2[0][0:-2]:\n",
    "    tm.append(i)\n",
    "tm.append('ID')\n",
    "tm.append('LABELS')\n",
    "data_to_write.append(tm)\n",
    "for i in range(len(sections)):\n",
    "    tm = []\n",
    "    tm_sec = sections[i][0:-2]\n",
    "    tm_api = apicalls[i][0:-2]\n",
    "    tm_gram1 = grams_1[i][0:-2]\n",
    "    tm_gram2 = grams_2[i][0:-2]\n",
    "    for i_sec in tm_sec:\n",
    "        tm.append(i_sec)\n",
    "    for i_api in tm_api:\n",
    "        tm.append(i_api)\n",
    "    for i_gram1 in tm_gram1:\n",
    "        tm.append(i_gram1)\n",
    "    for i_gram2 in tm_gram2:\n",
    "        tm.append(i_gram2)\n",
    "    tm.append(sections[i][-2])\n",
    "    tm.append(sections[i][-1])\n",
    "    data_to_write.append(tm)"
   ]
  },
  {
   "cell_type": "code",
   "execution_count": 118,
   "metadata": {},
   "outputs": [],
   "source": [
    "myFile = '../Dataset/data/data_full.csv'\n",
    "with open(myFile, 'w', encoding= 'ISO-8859-1', newline = '') as f:\n",
    "    write = csv.writer(f)\n",
    "    write.writerows(data_to_write)"
   ]
  },
  {
   "cell_type": "code",
   "execution_count": 119,
   "metadata": {},
   "outputs": [
    {
     "name": "stdout",
     "output_type": "stream",
     "text": [
      "1770\n"
     ]
    }
   ],
   "source": [
    "print(len(data_to_write[0]))"
   ]
  },
  {
   "cell_type": "code",
   "execution_count": null,
   "metadata": {},
   "outputs": [],
   "source": []
  }
 ],
 "metadata": {
  "kernelspec": {
   "display_name": "Python 3",
   "language": "python",
   "name": "python3"
  },
  "language_info": {
   "codemirror_mode": {
    "name": "ipython",
    "version": 3
   },
   "file_extension": ".py",
   "mimetype": "text/x-python",
   "name": "python",
   "nbconvert_exporter": "python",
   "pygments_lexer": "ipython3",
   "version": "3.8.5"
  }
 },
 "nbformat": 4,
 "nbformat_minor": 4
}
