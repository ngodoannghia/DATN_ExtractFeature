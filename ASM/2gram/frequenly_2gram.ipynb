{
 "cells": [
  {
   "cell_type": "code",
   "execution_count": 1,
   "metadata": {},
   "outputs": [],
   "source": [
    "import numpy as np\n",
    "import sys\n",
    "import os\n",
    "import csv"
   ]
  },
  {
   "cell_type": "code",
   "execution_count": 2,
   "metadata": {},
   "outputs": [],
   "source": [
    "path = \"../../Dataset/data/data_ngram/\""
   ]
  },
  {
   "cell_type": "code",
   "execution_count": 3,
   "metadata": {},
   "outputs": [],
   "source": [
    "malwarelist=np.genfromtxt('../../Dataset/trainLabels.csv',delimiter=\",\",dtype=str)\n",
    "malwarelist=malwarelist[1:]"
   ]
  },
  {
   "cell_type": "code",
   "execution_count": 4,
   "metadata": {},
   "outputs": [],
   "source": [
    "dic_2gram = np.load('../store/ngram/dic_2gram.npy')\n",
    "dic_2gram = dic_2gram.tolist()\n",
    "dic_2gram = [str(tuple(i)) for i in dic_2gram]\n",
    "dic_2gram.append('ID')\n",
    "dic_2gram.append('LABELS')\n",
    "data_to_write = []"
   ]
  },
  {
   "cell_type": "code",
   "execution_count": 5,
   "metadata": {},
   "outputs": [],
   "source": [
    "head = np.load('../store/ngram/dic_2gram.npy')\n",
    "head = head.tolist()\n",
    "fea = []\n",
    "for u in head:\n",
    "    s = u[0] + '+' + u[1]\n",
    "    fea.append(s)\n",
    "fea.append('ID')\n",
    "fea.append('LABELS')\n",
    "data_to_write.append(fea)"
   ]
  },
  {
   "cell_type": "code",
   "execution_count": 6,
   "metadata": {},
   "outputs": [],
   "source": [
    "path_2gram = path + 'data_2gram.csv'\n",
    "with open(path_2gram, 'r') as f_2gram:\n",
    "    data_2gram = csv.reader(f_2gram)\n",
    "    for row in data_2gram:\n",
    "        data_to_write.append(row)\n",
    "    "
   ]
  },
  {
   "cell_type": "code",
   "execution_count": 7,
   "metadata": {},
   "outputs": [],
   "source": [
    "myFile = open('../../Dataset/data/data_ngram/data_2gram_edit.csv','w', newline = '')\n",
    "with myFile:\n",
    "    write = csv.writer(myFile)\n",
    "    write.writerows(data_to_write)"
   ]
  },
  {
   "cell_type": "code",
   "execution_count": 8,
   "metadata": {},
   "outputs": [
    {
     "name": "stdout",
     "output_type": "stream",
     "text": [
      "10869\n"
     ]
    }
   ],
   "source": [
    "print(len(data_to_write))"
   ]
  },
  {
   "cell_type": "code",
   "execution_count": 13,
   "metadata": {},
   "outputs": [
    {
     "name": "stdout",
     "output_type": "stream",
     "text": [
      "01kcPWA9K2BOxQeS5Rju   1\n",
      "04EjIdbPV5e1XroFOpiN   2\n",
      "05EeG39MTRrI6VY21DPd   3\n",
      "05rJTUWYAKNegBk2wE8X   4\n",
      "0AnoOZDNbPXIr2MRBSCJ   5\n",
      "0AwWs42SUQ19mI7eDcTC   6\n",
      "0cH8YeO15ZywEhPrJvmj   7\n",
      "0DNVFKwYlcjO7bTfJ5p1   8\n",
      "0DqUX5rkg3IbMY6BLGCE   9\n",
      "0eaNKwluUmkYdIvZ923c   10\n",
      "0fHVZKeTE6iRb1PIQ4au   11\n",
      "0G4hwobLuAzvl1PWYfmd   12\n",
      "0gkj92oIleU4SYiCWpaM   13\n",
      "0H63jydvIahOVqgx5Kfo   14\n",
      "0Hrfce4X5YGESJPjl9uL   15\n",
      "0I4ZVvngsAatm8fzD3pk   16\n",
      "0iBaz3krsQ8HuA7cGDSt   17\n",
      "0iS3pwlgJco8XORD4TLq   18\n",
      "0jkmvR43UQ9yKxqXei61   19\n",
      "0KigmP9TLwJXNGz26tfO   20\n",
      "0l6fhCty3aSLDOgAjYQi   21\n",
      "0MOorvEIRmZGhqQdc3TA   22\n",
      "0NEsQlDGnUMg3Bew7R1A   23\n",
      "0NyfGXt8nmlK72Q9Irhs   24\n",
      "0odUVkrjp2B1n8NDS6bR   25\n",
      "0pTO4SVnWDehgUlYBAvq   26\n",
      "0qpMX5CZU8mgD2kaRNVv   27\n",
      "0Rgetc1wAfxlzHTGBOa7   28\n",
      "0rgudc7PpbexCtBjNqWF   29\n",
      "0S7z4qxYTHPUDO8fgIyA   30\n",
      "0SIqXMkDBWKE8s9pQaOv   31\n",
      "0uNkt6sirCnUWw175pjl   32\n",
      "0WdoYq78xDkFMcIwRpmJ   33\n",
      "0X6U3SfcmbuZNodnH9qL   34\n",
      "0yBQ5dAc2gN4qx9YWuiS   35\n",
      "0YRDpBU67WrqEugkXlnd   36\n",
      "0ZHV6acpJ9KkAWPjEI71   37\n",
      "0ZiQmgtxzHe9v5O8Lf2k   38\n",
      "0ZTEyLXaWReMK3rYVCjv   39\n",
      "12TEseaJ4jnbyORqKxhf   40\n",
      "15loeAHtkJa8BuFi6Zry   41\n",
      "175ZU8ClOsnifz03ybcX   42\n",
      "19zYbuW3XONcEedv7xUl   43\n",
      "1aAwe4J9VHrsq8uEoZhf   44\n",
      "1AXVt0D9mSU26fL4iFGc   45\n",
      "1ckp5Ye83yzjIilWQCfm   46\n",
      "1Cub9LvOgMWkQqs3R2ef   47\n",
      "1CWtrEfORZDj7psmnToA   48\n",
      "1d485UYC6qhXKrAcDJPZ   49\n",
      "1DNWriJEg56S03yvjTBu   50\n",
      "1E93CpP60RHFNiT5Qfvn   51\n",
      "1eJx34l8pcAFvMuOwrjB   52\n",
      "1GQ4lzmoS3P96jkAKsRn   53\n",
      "1gQDa4l9cNBbkO7n5IY0   54\n",
      "1h0FDrPmV7gfCzs9Id43   55\n",
      "1her6tuVWjBkqZPUf8KR   56\n",
      "1hK3zVxBGXmtTP6JlHwb   57\n"
     ]
    },
    {
     "ename": "KeyboardInterrupt",
     "evalue": "",
     "output_type": "error",
     "traceback": [
      "\u001b[1;31m---------------------------------------------------------------------------\u001b[0m",
      "\u001b[1;31mKeyboardInterrupt\u001b[0m                         Traceback (most recent call last)",
      "\u001b[1;32m<ipython-input-13-bc717f6d63a3>\u001b[0m in \u001b[0;36m<module>\u001b[1;34m\u001b[0m\n\u001b[0;32m     15\u001b[0m             \u001b[0msource_line\u001b[0m \u001b[1;33m=\u001b[0m \u001b[0msource_line\u001b[0m\u001b[1;33m.\u001b[0m\u001b[0mstrip\u001b[0m\u001b[1;33m(\u001b[0m\u001b[1;34m'\\n'\u001b[0m\u001b[1;33m)\u001b[0m\u001b[1;33m\u001b[0m\u001b[1;33m\u001b[0m\u001b[0m\n\u001b[0;32m     16\u001b[0m             \u001b[1;32mif\u001b[0m \u001b[0msource_line\u001b[0m \u001b[1;32min\u001b[0m \u001b[0mdic_2gram\u001b[0m\u001b[1;33m:\u001b[0m\u001b[1;33m\u001b[0m\u001b[1;33m\u001b[0m\u001b[0m\n\u001b[1;32m---> 17\u001b[1;33m                 \u001b[0mtemp\u001b[0m\u001b[1;33m[\u001b[0m\u001b[0mdic_2gram\u001b[0m\u001b[1;33m.\u001b[0m\u001b[0mindex\u001b[0m\u001b[1;33m(\u001b[0m\u001b[0msource_line\u001b[0m\u001b[1;33m)\u001b[0m\u001b[1;33m]\u001b[0m \u001b[1;33m=\u001b[0m \u001b[0mtemp\u001b[0m\u001b[1;33m[\u001b[0m\u001b[0mdic_2gram\u001b[0m\u001b[1;33m.\u001b[0m\u001b[0mindex\u001b[0m\u001b[1;33m(\u001b[0m\u001b[0msource_line\u001b[0m\u001b[1;33m)\u001b[0m\u001b[1;33m]\u001b[0m \u001b[1;33m+\u001b[0m \u001b[1;36m1\u001b[0m\u001b[1;33m\u001b[0m\u001b[1;33m\u001b[0m\u001b[0m\n\u001b[0m\u001b[0;32m     18\u001b[0m         \u001b[0mtemp\u001b[0m\u001b[1;33m[\u001b[0m\u001b[0mdic_2gram\u001b[0m\u001b[1;33m.\u001b[0m\u001b[0mindex\u001b[0m\u001b[1;33m(\u001b[0m\u001b[1;34m'ID'\u001b[0m\u001b[1;33m)\u001b[0m\u001b[1;33m]\u001b[0m \u001b[1;33m=\u001b[0m \u001b[0mname\u001b[0m\u001b[1;33m[\u001b[0m\u001b[1;36m0\u001b[0m\u001b[1;33m]\u001b[0m\u001b[1;33m.\u001b[0m\u001b[0mstrip\u001b[0m\u001b[1;33m(\u001b[0m\u001b[1;34m'\"'\u001b[0m\u001b[1;33m)\u001b[0m\u001b[1;33m\u001b[0m\u001b[1;33m\u001b[0m\u001b[0m\n\u001b[0;32m     19\u001b[0m         \u001b[0mtemp\u001b[0m\u001b[1;33m[\u001b[0m\u001b[0mdic_2gram\u001b[0m\u001b[1;33m.\u001b[0m\u001b[0mindex\u001b[0m\u001b[1;33m(\u001b[0m\u001b[1;34m'LABELS'\u001b[0m\u001b[1;33m)\u001b[0m\u001b[1;33m]\u001b[0m \u001b[1;33m=\u001b[0m \u001b[0mname\u001b[0m\u001b[1;33m[\u001b[0m\u001b[1;36m1\u001b[0m\u001b[1;33m]\u001b[0m\u001b[1;33m\u001b[0m\u001b[1;33m\u001b[0m\u001b[0m\n",
      "\u001b[1;31mKeyboardInterrupt\u001b[0m: "
     ]
    }
   ],
   "source": [
    "count = 0\n",
    "for name in malwarelist:\n",
    "    nam = name[0].strip('\"')\n",
    "    nam = str(nam)\n",
    "    count = count + 1\n",
    "    print(nam, ' ', count)\n",
    "    temp = [0] * len(dic_2gram)\n",
    "    nam = path + nam + \".txt\"\n",
    "    with open(nam, 'r') as f:\n",
    "        lines = f.readlines()\n",
    "        for source_line in lines:\n",
    "            if source_line == '\\n':\n",
    "                continue\n",
    "            source_line = source_line.strip('\\n')\n",
    "            if source_line in dic_2gram:\n",
    "                temp[dic_2gram.index(source_line)] = temp[dic_2gram.index(source_line)] + 1\n",
    "        temp[dic_2gram.index('ID')] = name[0].strip('\"')\n",
    "        temp[dic_2gram.index('LABELS')] = name[1]\n",
    "    data_to_write.append(temp)\n",
    "myFile = open('../../Dataset/data/data_ngram/data_2gram.csv','w', newline = '')\n",
    "with myFile:\n",
    "    write = csv.writer(myFile)\n",
    "    write.writerows(data_to_write)"
   ]
  },
  {
   "cell_type": "code",
   "execution_count": null,
   "metadata": {},
   "outputs": [],
   "source": []
  }
 ],
 "metadata": {
  "kernelspec": {
   "display_name": "Python 3",
   "language": "python",
   "name": "python3"
  },
  "language_info": {
   "codemirror_mode": {
    "name": "ipython",
    "version": 3
   },
   "file_extension": ".py",
   "mimetype": "text/x-python",
   "name": "python",
   "nbconvert_exporter": "python",
   "pygments_lexer": "ipython3",
   "version": "3.8.5"
  }
 },
 "nbformat": 4,
 "nbformat_minor": 4
}
