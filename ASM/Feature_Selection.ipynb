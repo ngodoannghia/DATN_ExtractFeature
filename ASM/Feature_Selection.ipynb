{
 "cells": [
  {
   "cell_type": "code",
   "execution_count": 33,
   "metadata": {},
   "outputs": [],
   "source": [
    "import numpy as np\n",
    "import matplotlib.pyplot as plt\n",
    "from sklearn import svm\n",
    "from sklearn.metrics import confusion_matrix\n",
    "from sklearn.preprocessing import label_binarize\n",
    "from sklearn.multiclass import OneVsRestClassifier\n",
    "from sklearn.metrics import log_loss\n",
    "from sklearn.metrics import classification_report\n",
    "# path_tr='../Dataset/data/data_apicall/train.csv'\n",
    "# path_futr='../Dataset/data/data_apicall/train_full.csv'\n",
    "# path_te='../Dataset/data/data_apicall/test.csv'\n",
    "# path_val='../Dataset/data/data_apicall/val.csv'\n",
    "\n",
    "path_tr='../Dataset/data/data_section/normal_train.csv'\n",
    "path_futr='../Dataset/data/data_section/normal_trainfull.csv'\n",
    "path_te='../Dataset/data/data_section/normal_test.csv'\n",
    "path_val='../Dataset/data/data_section/normal_val.csv'\n",
    "top_feature=150"
   ]
  },
  {
   "cell_type": "code",
   "execution_count": 34,
   "metadata": {},
   "outputs": [],
   "source": [
    "train = np.genfromtxt(path_tr, delimiter=\",\", dtype=str)\n",
    "val = np.genfromtxt(path_val, delimiter=\",\", dtype=str)"
   ]
  },
  {
   "cell_type": "code",
   "execution_count": 35,
   "metadata": {},
   "outputs": [],
   "source": [
    "x_data  = train[1:,0:top_feature]\n",
    "x_label = train[1:,-1]\n",
    "x_data=x_data.astype(np.float)\n",
    "x_label=x_label.astype(np.int)\n",
    "# Binarize the output\n",
    "x_label = label_binarize(x_label, classes=[1,2,3,4,5,6,7,8,9])\n",
    "\n",
    "y_data  = val[1:,0:top_feature]\n",
    "y_data=y_data.astype(np.float)\n",
    "y_label = val[1:,-1]\n",
    "y_label=y_label.astype(np.int)\n",
    "woby=y_label\n",
    "# Binarize the output\n",
    "y_label = label_binarize(y_label, classes=[1,2,3,4,5,6,7,8,9])"
   ]
  },
  {
   "cell_type": "code",
   "execution_count": 36,
   "metadata": {},
   "outputs": [
    {
     "name": "stdout",
     "output_type": "stream",
     "text": [
      "log loss:  1.9665844935026837   C:  0.01   G:  0.01\n",
      "log loss:  1.2867714015557499   C:  0.01   G:  0.1\n",
      "log loss:  1.020537684733057   C:  0.01   G:  1\n",
      "log loss:  1.0131420005272735   C:  0.01   G:  10\n",
      "log loss:  0.7461457975037877   C:  0.01   G:  100\n",
      "log loss:  1.2067153792555352   C:  0.1   G:  0.01\n",
      "log loss:  0.9966226878308355   C:  0.1   G:  0.1\n",
      "log loss:  1.000689421352957   C:  0.1   G:  1\n",
      "log loss:  0.8833576296352129   C:  0.1   G:  10\n",
      "log loss:  0.6775332490271362   C:  0.1   G:  100\n",
      "log loss:  1.0202955250223913   C:  1   G:  0.01\n",
      "log loss:  1.001880467084202   C:  1   G:  0.1\n",
      "log loss:  0.9612409332361376   C:  1   G:  1\n",
      "log loss:  0.6780740344677404   C:  1   G:  10\n",
      "log loss:  0.5480405306399186   C:  1   G:  100\n",
      "log loss:  0.9973142232655378   C:  10   G:  0.01\n",
      "log loss:  0.9812423591912823   C:  10   G:  0.1\n",
      "log loss:  0.8594850354638509   C:  10   G:  1\n",
      "log loss:  0.5904814153602944   C:  10   G:  10\n",
      "log loss:  0.44822472402503816   C:  10   G:  100\n",
      "log loss:  0.9830679430236198   C:  100   G:  0.01\n",
      "log loss:  0.9660010977470143   C:  100   G:  0.1\n",
      "log loss:  0.6941413240949108   C:  100   G:  1\n",
      "log loss:  0.5260361700477143   C:  100   G:  10\n",
      "log loss:  0.3219202208938518   C:  100   G:  100\n"
     ]
    }
   ],
   "source": [
    "c=[0.01,0.1,1,10,100]\n",
    "g=[0.01,0.1,1,10,100]\n",
    "loss=100\n",
    "opt_c=0\n",
    "opt_g=0\n",
    "for i in c:\n",
    "    for j in g:    \n",
    "        clf = OneVsRestClassifier(svm.SVC(kernel='rbf',C=i,gamma=j, probability=True))\n",
    "        clf_f = clf.fit(x_data, x_label)\n",
    "        y_score=clf_f.decision_function(y_data)\n",
    "        y_predict_prob=clf_f.predict_proba(y_data)\n",
    "        y_predict=clf_f.predict(y_data)\n",
    "        pre=y_predict.argmax(1)\n",
    "        pre=pre+1\n",
    "        a=log_loss(y_label,y_predict_prob)\n",
    "        if a<loss:\n",
    "            opt_c=i\n",
    "            opt_g=j\n",
    "            loss=a\n",
    "       # print(confusion_matrix(woby,pre))\n",
    "        print('log loss: ',a,'  C: ',i,'  G: ',j)"
   ]
  },
  {
   "cell_type": "code",
   "execution_count": 43,
   "metadata": {},
   "outputs": [],
   "source": [
    "train = np.genfromtxt(path_futr, delimiter=\",\", dtype=str)\n",
    "test = np.genfromtxt(path_te, delimiter=\",\", dtype=str)"
   ]
  },
  {
   "cell_type": "code",
   "execution_count": 44,
   "metadata": {},
   "outputs": [
    {
     "name": "stdout",
     "output_type": "stream",
     "text": [
      "[[272   0  12   0   0   1   0   1   1]\n",
      " [  1 463   0   0   0   0   0   0   0]\n",
      " [  1   0 550   0   0   0   0   0   0]\n",
      " [  4   0   0  84   0   1   0   0   0]\n",
      " [  7   0   0   0   0   0   0   0   0]\n",
      " [  4   0   0   2   0 134   0   0   0]\n",
      " [  1   0  57   1   0   0  15   0   0]\n",
      " [ 57   0   9   1   0   0   0 161   1]\n",
      " [ 43   0   0   0   0   0   0   0 146]]\n",
      "log loss:  0.3219202208938518   C:  100   G:  100\n"
     ]
    }
   ],
   "source": [
    "y_score=clf_f.decision_function(y_data)\n",
    "y_predict_prob=clf_f.predict_proba(y_data)\n",
    "y_predict=clf_f.predict(y_data)\n",
    "pre=y_predict.argmax(1)\n",
    "pre=pre+1\n",
    "\n",
    "a=log_loss(y_label,y_predict_prob)\n",
    "\n",
    "print(confusion_matrix(woby,pre)) \n",
    "\n",
    "print('log loss: ',a,'  C: ',opt_c,'  G: ',opt_g)"
   ]
  },
  {
   "cell_type": "code",
   "execution_count": 45,
   "metadata": {},
   "outputs": [
    {
     "name": "stdout",
     "output_type": "stream",
     "text": [
      "              precision    recall  f1-score   support\n",
      "\n",
      "           0       0.93      0.84      0.88       287\n",
      "           1       1.00      1.00      1.00       464\n",
      "           2       0.88      1.00      0.93       551\n",
      "           3       0.95      0.94      0.95        89\n",
      "           4       0.00      0.00      0.00         7\n",
      "           5       0.98      0.97      0.97       140\n",
      "           6       0.94      0.22      0.35        74\n",
      "           7       0.99      0.71      0.83       229\n",
      "           8       0.98      0.77      0.86       189\n",
      "\n",
      "   micro avg       0.94      0.89      0.91      2030\n",
      "   macro avg       0.85      0.72      0.75      2030\n",
      "weighted avg       0.94      0.89      0.90      2030\n",
      " samples avg       0.88      0.89      0.88      2030\n",
      "\n"
     ]
    },
    {
     "name": "stderr",
     "output_type": "stream",
     "text": [
      "C:\\ProgramData\\Anaconda3\\lib\\site-packages\\sklearn\\metrics\\_classification.py:1221: UndefinedMetricWarning: Precision and F-score are ill-defined and being set to 0.0 in labels with no predicted samples. Use `zero_division` parameter to control this behavior.\n",
      "  _warn_prf(average, modifier, msg_start, len(result))\n",
      "C:\\ProgramData\\Anaconda3\\lib\\site-packages\\sklearn\\metrics\\_classification.py:1221: UndefinedMetricWarning: Precision and F-score are ill-defined and being set to 0.0 in samples with no predicted labels. Use `zero_division` parameter to control this behavior.\n",
      "  _warn_prf(average, modifier, msg_start, len(result))\n"
     ]
    }
   ],
   "source": [
    "print(classification_report(y_label, y_predict))"
   ]
  },
  {
   "cell_type": "code",
   "execution_count": 46,
   "metadata": {},
   "outputs": [
    {
     "name": "stdout",
     "output_type": "stream",
     "text": [
      "0.8812807881773399\n"
     ]
    }
   ],
   "source": [
    "from sklearn.metrics import accuracy_score\n",
    "print(accuracy_score(y_label, y_predict))"
   ]
  },
  {
   "cell_type": "code",
   "execution_count": null,
   "metadata": {},
   "outputs": [],
   "source": []
  }
 ],
 "metadata": {
  "kernelspec": {
   "display_name": "Python 3",
   "language": "python",
   "name": "python3"
  },
  "language_info": {
   "codemirror_mode": {
    "name": "ipython",
    "version": 3
   },
   "file_extension": ".py",
   "mimetype": "text/x-python",
   "name": "python",
   "nbconvert_exporter": "python",
   "pygments_lexer": "ipython3",
   "version": "3.8.5"
  }
 },
 "nbformat": 4,
 "nbformat_minor": 4
}
