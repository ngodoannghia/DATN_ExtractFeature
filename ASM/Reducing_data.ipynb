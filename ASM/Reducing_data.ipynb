{
 "cells": [
  {
   "cell_type": "code",
   "execution_count": 104,
   "metadata": {},
   "outputs": [],
   "source": [
    "import numpy as np\n",
    "import pandas as pd\n",
    "import csv"
   ]
  },
  {
   "cell_type": "code",
   "execution_count": 105,
   "metadata": {},
   "outputs": [],
   "source": [
    "size = 1000\n",
    "path_api = '../Dataset/data/data_apicall/data_apicall.csv'\n",
    "path_1gram = '../Dataset/data/data_ngram/data_1gram.csv'\n",
    "path_2gram = '../Dataset/data/data_ngram/data_2gram_edit.csv'\n",
    "path_section = '../Dataset/data/data_section/data_section.csv'\n",
    "# b = pd.read_csv('../Dataset/data/data_apicall/data_apicall.csv', chunksize = size)\n",
    "b = pd.read_csv(path_2gram,encoding='ISO-8859-1', chunksize = size)\n",
    "data_list = []\n",
    "for i in b:\n",
    "    data_list.append(i)\n",
    "data_pd = pd.DataFrame()\n",
    "for chunk in data_list:\n",
    "    data_pd = pd.concat([data_pd, chunk])\n",
    "data_arr = data_pd.values"
   ]
  },
  {
   "cell_type": "code",
   "execution_count": 106,
   "metadata": {},
   "outputs": [
    {
     "name": "stdout",
     "output_type": "stream",
     "text": [
      "34216\n"
     ]
    }
   ],
   "source": [
    "print(len(data_arr[0]))"
   ]
  },
  {
   "cell_type": "code",
   "execution_count": 107,
   "metadata": {},
   "outputs": [],
   "source": [
    "x = data_arr[:,0:-2]\n",
    "x = np.sum(x, axis = 0)\n",
    "index_list = []\n",
    "#api_freq = 1000\n",
    "#gram1_freq = 200\n",
    "gram2_freq = 11000\n",
    "#sec_count = 100\n",
    "for i, j in enumerate(x):\n",
    "    if j >=gram2_freq:\n",
    "        index_list.append(i)"
   ]
  },
  {
   "cell_type": "code",
   "execution_count": 108,
   "metadata": {},
   "outputs": [
    {
     "name": "stdout",
     "output_type": "stream",
     "text": [
      "600\n",
      "[0, 1, 2, 3, 4, 5, 6, 7, 8, 10, 11, 12, 13, 14, 16, 17, 18, 19, 20, 21, 23, 24, 25, 26, 27, 28, 29, 30, 31, 32, 34, 35, 36, 37, 38, 39, 41, 42, 43, 44, 45, 46, 47, 48, 49, 50, 51, 52, 53, 54, 55, 56, 57, 58, 59, 60, 61, 62, 63, 64, 65, 66, 67, 68, 69, 70, 71, 72, 73, 74, 75, 78, 81, 82, 83, 84, 85, 86, 87, 88, 89, 90, 91, 92, 93, 95, 96, 97, 98, 99, 101, 102, 103, 104, 105, 106, 107, 108, 109, 110, 111, 112, 114, 115, 116, 117, 118, 119, 120, 121, 122, 123, 124, 125, 126, 127, 128, 129, 130, 131, 132, 133, 134, 135, 142, 144, 147, 148, 149, 150, 151, 152, 153, 154, 155, 156, 158, 159, 160, 162, 164, 165, 167, 169, 170, 171, 172, 174, 175, 177, 178, 179, 183, 185, 186, 188, 189, 193, 194, 195, 196, 197, 198, 200, 201, 203, 204, 205, 207, 209, 212, 213, 214, 215, 216, 217, 218, 221, 222, 224, 225, 227, 228, 229, 231, 234, 235, 237, 240, 241, 243, 246, 247, 252, 253, 254, 258, 260, 263, 264, 265, 266, 268, 269, 270, 271, 274, 275, 276, 277, 278, 279, 280, 282, 285, 288, 289, 291, 292, 293, 296, 297, 299, 301, 305, 306, 312, 313, 316, 318, 320, 321, 322, 323, 325, 326, 327, 331, 332, 333, 334, 337, 338, 339, 341, 342, 344, 345, 346, 347, 349, 350, 352, 353, 354, 356, 358, 359, 360, 361, 362, 363, 364, 365, 366, 369, 370, 372, 376, 377, 378, 379, 381, 382, 385, 386, 387, 390, 391, 393, 395, 396, 397, 399, 400, 402, 403, 404, 405, 406, 409, 411, 412, 413, 417, 419, 421, 422, 426, 427, 428, 430, 432, 433, 434, 435, 436, 437, 439, 441, 442, 444, 446, 447, 449, 451, 453, 454, 455, 456, 459, 460, 461, 462, 463, 465, 466, 467, 470, 473, 474, 475, 476, 477, 479, 481, 482, 484, 486, 487, 488, 489, 491, 492, 495, 497, 498, 500, 503, 507, 510, 511, 512, 516, 517, 518, 519, 520, 522, 523, 524, 525, 526, 527, 528, 529, 531, 532, 535, 536, 537, 538, 540, 541, 542, 544, 546, 547, 548, 549, 551, 553, 554, 555, 557, 558, 559, 563, 565, 566, 567, 568, 569, 570, 573, 574, 576, 578, 580, 581, 584, 591, 593, 597, 607, 609, 610, 613, 615, 618, 622, 624, 626, 627, 628, 633, 636, 637, 638, 642, 646, 652, 663, 668, 670, 672, 675, 681, 686, 692, 698, 706, 720, 724, 746, 751, 765, 771, 775, 778, 800, 803, 816, 818, 821, 824, 825, 827, 829, 830, 832, 838, 845, 848, 850, 854, 856, 861, 866, 869, 870, 894, 898, 901, 905, 912, 913, 923, 931, 933, 935, 937, 944, 950, 959, 960, 967, 973, 975, 982, 987, 991, 998, 1000, 1011, 1019, 1021, 1024, 1031, 1046, 1049, 1069, 1083, 1087, 1088, 1091, 1093, 1094, 1122, 1136, 1140, 1146, 1151, 1153, 1156, 1166, 1168, 1169, 1174, 1181, 1183, 1184, 1191, 1192, 1196, 1199, 1203, 1210, 1217, 1245, 1253, 1270, 1278, 1281, 1288, 1297, 1303, 1335, 1366, 1374, 1377, 1388, 1410, 1444, 1449, 1452, 1468, 1469, 1476, 1520, 1572, 1621, 1637, 1643, 1650, 1651, 1667, 1699, 1721, 1806, 1814, 1955, 1964, 2201, 2211, 2280, 2438, 2509, 2905, 3301, 3439, 3454, 3882, 4293, 4373, 4527, 4868, 4942, 5253, 6804, 8002, 10334, 10827, 10847, 10906, 11897, 11962, 14346, 14722, 14724, 14725, 14726, 14730, 14735, 14737, 14738, 14739, 14745, 14746, 14747, 14748, 14752, 14756, 14757, 14758, 14761, 14830, 14834, 14841, 16487]\n"
     ]
    }
   ],
   "source": [
    "print(len(index_list))\n",
    "print(index_list)"
   ]
  },
  {
   "cell_type": "raw",
   "metadata": {},
   "source": [
    "Kich thuoc cua 1 gram la 320 voi gram1_freq = 200\n",
    "Kich thuoc cua api_call la 245 voi api_freq = 1000\n",
    "Kich thuoc cua 2gram la 600 voi gram2_freq = 11000\n",
    "Kich thuoc cua section_count la 366 voi sec_count = 100"
   ]
  },
  {
   "cell_type": "code",
   "execution_count": 109,
   "metadata": {},
   "outputs": [],
   "source": [
    "data_to_list = []\n",
    "names = []\n",
    "for i, j in enumerate(data_pd):\n",
    "    if i in index_list:\n",
    "        names.append(j)\n",
    "names.append('ID')\n",
    "names.append('LABELS')\n",
    "data_to_list.append(names)"
   ]
  },
  {
   "cell_type": "code",
   "execution_count": 110,
   "metadata": {},
   "outputs": [],
   "source": [
    "for i in data_arr:\n",
    "    temp = []\n",
    "    for j in index_list:\n",
    "        temp.append(i[j])\n",
    "    temp.append(i[-2])\n",
    "    temp.append(i[-1])\n",
    "    data_to_list.append(temp)\n"
   ]
  },
  {
   "cell_type": "code",
   "execution_count": 111,
   "metadata": {},
   "outputs": [
    {
     "name": "stdout",
     "output_type": "stream",
     "text": [
      "10869\n"
     ]
    }
   ],
   "source": [
    "print(len(data_to_list))"
   ]
  },
  {
   "cell_type": "code",
   "execution_count": 112,
   "metadata": {},
   "outputs": [],
   "source": [
    "# myFile = open('../Dataset/data/data_apicall/10_reduce_apicall.csv', 'w', newline = '')\n",
    "# myFile = open('../Dataset/data/data_ngram/320_reduce_1gram.csv', 'w', newline = '')\n",
    "myFile = open('../Dataset/data/data_ngram/600_reduce_2gram.csv', 'w', newline = '')\n",
    "# myFile = open('../Dataset/data/data_section/366_reduce_section.csv', 'w', newline = '')\n",
    "with myFile:\n",
    "    writer = csv.writer(myFile)\n",
    "    writer.writerows(data_to_list) "
   ]
  },
  {
   "cell_type": "code",
   "execution_count": null,
   "metadata": {},
   "outputs": [],
   "source": []
  }
 ],
 "metadata": {
  "kernelspec": {
   "display_name": "Python 3",
   "language": "python",
   "name": "python3"
  },
  "language_info": {
   "codemirror_mode": {
    "name": "ipython",
    "version": 3
   },
   "file_extension": ".py",
   "mimetype": "text/x-python",
   "name": "python",
   "nbconvert_exporter": "python",
   "pygments_lexer": "ipython3",
   "version": "3.8.5"
  }
 },
 "nbformat": 4,
 "nbformat_minor": 4
}
