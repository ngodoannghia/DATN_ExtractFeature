{
 "cells": [
  {
   "cell_type": "code",
   "execution_count": 1,
   "metadata": {},
   "outputs": [],
   "source": [
    "import numpy as np"
   ]
  },
  {
   "cell_type": "code",
   "execution_count": 6,
   "metadata": {},
   "outputs": [],
   "source": [
    "dic_section = np.load('./store/section/dic_section.npy')\n",
    "dic_section = dic_section.tolist()\n",
    "dic_section.append('ID')\n",
    "dic_section.append('LABEL')\n",
    "wrong = np.load('./store/section/files_not_parsed.npy')\n",
    "data_to_write = []\n",
    "data_to_write.append(dic_section)\n",
    "path = '../Dataset/data/section/'"
   ]
  },
  {
   "cell_type": "code",
   "execution_count": 7,
   "metadata": {},
   "outputs": [
    {
     "name": "stdout",
     "output_type": "stream",
     "text": [
      "463\n",
      "['HEADER', '.text', '.idata', '.rdata', '.data', '.rsrc', '.reloc', '.orpc', '.bss', '.edata', '.gnu_deb', '.SHARDAT', '.data1', '.tls', '.didat', '.bootdat', 'CODE', 'DATA', 'BSS', 'CONST', '.text2', '.sdbid', 'RT_CODE', 'RT_DATA', '.adata', '.text1', 'GAP', 'hp', '.sdata', 'CPUCAP_T', 'MC3DNOW_', 'MCSSE_TE', 'UYVYSSE_', 'YUYVSSE_', 'YV12SSE_', '.eh_fram', 'MSSMIXER', 'RELOADED', '_TEXT64', '_DATA', '.MYSEC', '.HANDLE', '_PUTX_DA', '.rodata', '.CRT', 'BINKY12', 'BINKY16', 'BINKP8', 'BINK16', 'BINK32', 'BINK', 'BINKBSS', 'BINKCONS', 'BINKDATA', '.expo', 'FaxTrace', '_RDATA', '_DATA1', 'seg001', 'seg002', 'seg004', 'BINK4444', 'BINK5551', 'BINK32A', 'BINK16X2', 'BINK32X2', 'BINK16MX', 'BINK32MX', 'BINK16M', 'BINK32M', 'BINKYUY2', 'BINK32R', 'BINK32RA', 'BINK32RX', 'BINK24', 'BINK24X2', 'BINK24M', 'BINK24R', 'BINK24RX', 'BINK24RM', 'BINKUYVY', 'BINKYV12', 'PAGE', '.code', 'CALC_TAB', 'XMM_CONS', '.sxdata', '.init_t', '.init_d', '.APOINT', 'RT_CONST', '.AOLIdle', 'SHARED', 'AppShare', 'SHAREDHW', '.SDATA', '.eeSMCac', 'Shared', '.zenc', 'seg000', ' .data', '.da\\t.data', '.daA.data', '0.data', '1.data', '.daB.data', '.da\\n', 'd.data', 'yogmamm', '.rebld_e', '.rebld_i', 'iuagwws', 'ecasws', 'auuiq', 'kooymwe', 'kyqic', '.ndata', \".ERROR 'too many lines (more than MAX_ITEM_LINES=5000)'\\n\", '.r .rdata', 'qmoyiu', 'acggagg', 'D.text', '\\t.text', '.tixt', 'agauixa', 'code', '.aspack6', '.sforce3', '.RDATA', '.brick', '.itext', '.aspack3', '.aspack4', 'seg003', 'seg005', '.aspack1', 'dfd', '.icode', '.l', '.unIsec', '.hqjQh', '.IqR', '.qtyCA', '.R', '.upo', '.C', '.rJdo', '.c', '.CxMAKg', '.yOruq', '.zgefqi', '.H', '.hwA', '.bfm', '.V', '.qydy', '.zlAs', '.Wchmki', '.vKqb', '.i', '.OCSmsA', '.jgi', '.RWGB', '.apjK', '.HwP', '.SIyg', '.RfGKA', '.GnPKMF', '.UsNfGf', '.APdHNF', '.ER', '.oUlM', '.NJh', '.RQmp', '.OInf', '.sQvasT', '.ZY', '.sHJUwl', '.WoXhXU', '.LqTVGi', '.FOAu', '.YqLqNB', '.Lh', '.fj', '.UfPOkc', '.X', '.NGr', '.SE', '.vd', '.XGJ', '.Qi', '.yUDSI', '.xkOh', '.OsPo', '.Iy', '.wxLqOm', '.lJTs', '.IU', '.IFgPPD', '.DHNF', '.RFP', '.GsA', '.EryAb', '.baaVg', '.FOJKL', '.pN', '.pNOSRF', '.pdata', '.FMVaU', '.dWR', '.Fq', '.SBYeOU', '.MDnc', '.oFOQE', '.QHZGU', '.kUM', '.YDee', '.yfOok', '.jRe', '.xMC', '.Qq', '.CrDK', '.aI', '.Gl', '.QOuSCV', '.LMER', '.YkpSJz', '.gc', '.QcC', '.DV', '.pRYc', '.Yhqxw', '.znFHW', '.HWDET', '.kdMY', '.w', '.oj', '.hs', '.hBd', '.sNCiX', '.ucXcrq', '.WkwxrQq', '.HvHEok', '.TkZzJo', '.oKNgU', '.VZMMHEE', '.vZhSceL', '.vGNrf', '.wKQY', '.KfWxDw', '.qGHN', '.hL', '.u', '.oMVVeX', '.eWSNr', '.jYl', '.G', '.Ap', '.GJa', '.nzkj', '.D', '.xn', '.B', '.Lli', '.TBcmE', '.ugr', '.Vw', '.GNorl', '.GZ', '.DGxYI', '.WyDl', '.lM', '.rata', 'cbvixvt', '.abss', '.rdat', 'sect_1', '.aspack', '.asprsc', '.spm_', '.none', '.none2', '.mackt', '.Tls', '.Pav', 'bss', '.ptr', '.ecmp', '.warz', '.ptv', '.warp', '.icmp', '.wars', 'UPX0', 'UPX1', '.Much', '.adecu', '.laor', '.cud', '.piano', '.music', '.trance', '.xdata', '.2', '.w1', '.w2', '.w4', '.Reel', '.Re82', '.Sty', '.Racy', '.Lax503', '.dscom', '.recom', '.picom', '.1', '__]__u_', 'l_v__u_', '_59___u_', '.vibe', '.fite', '.rona', '.beso', '.circ', '.qvibe', '__e__u_', '_____u_', '.pdat', '.rewf', '.sddfd', '.wqwq', '.wqwewe', '.aewew', '.hdata', 'V__b_u_', '.track', '.hold', '__a__u_', '.mseo', '.seo', '.zptr', '.crp', '.jime', '.edx', '.same', '_g___u]', '._rc_', 'mdvwdca', '.unpack', '.sema0', '.sema1', '.sema2', '.sema3', '.sema4', '.3', '.ctors', '_[_I_u_', '.res', '.pack1', '.write', '.int', '.read', '___B_u_', 'E=>YOASg\\x1d\\xa0g(Oaa+\\x9a\\x9aO\\x8a\"\\x8e\\xa0c\\x1d\\x83h)\\x8ebb<YOUYI\\x86\\x19\\x88\\x9cf!\\x85f\\'Ie`_UU\\x9aI3>«¤xN\\x83AL\\n', '.redat', '.codat', '.sadat', '.podat', '.dep2z', '.dep1z', '.dep3z', '.dep3s', '_j___u&', '.rimp', '.rdbg1', '.rit', '.redt', '.rdbg2', '.rvar', '.rpt', '.ping', '_____u1', '.sbss', '.zinit', '.tinit', '.init1', '.init2', '.init3', 'H____uu', '.anit', '.crt', '.tdata', '.init', '.main', '.ram0', '.ram1', '.WARM', '.FIVE', '.SOME', 'U7h__u_', '___y_u_', '.byo', '.mempi', 'tyedmsf', 'ocprvak', 'ixupnab', 'pdata', '.5', '.s1', '.s2', '.s4', '.s7', '.s6', '.s5', '.s3', '.s8', '.conas', '.const', '.ts050', '.ts040', '.ts030', '.ts020', '.ts010', '.xyz', 'fdata7', \"]_ª'\\x15gd -S+3po\\x14s\\x94\\x07\\x07.3oöær£¤po~.*+¢r£q+,-1o\\x06W¢úoöúr\\n\", '@lw\\x89<#\\x06=\\x84#3<\\x8a$@_IF*+,ø\"\"*ær&s\\x8d\\x0771o#æm^3p\\x18,n6\\'q\\x1e_\\x14\\x97`\\x1d__ª%\\x15\\x9bæp4§{\"\\'\\'U/*+;\\x87\\x17/\\x14q5¯w\\x16ææ_++,r 3l;\\x941o31z\"33\\x85+.*\"\\x06\\x8c\\x10C*\\xad5\\x12<],-1w\\x07W\\x96i\\x95', ';c*\\x9b®1o3úz6æ®E..*\\x14æI/*+ú*1c.\\x0fi\\x8b£7¡\\x0e<!\\n', \"'r(\\t\\x06úr6æ®\\x0c..*,y\\n\", '\\x7fæw4,úA,,-13.1æ.*+-1-\\xa0ú,*.{*|I\"®&y\\x1fU\\x96^\\x8d\\x933j*+,\\xad\\x80~_\\x933n*+,1\\x92ÿ\\x8f\\x933r*+,I1\\x80\\x07¢3v*+,Xú\\x8ay)-)\\x99\\'OO]\\x89¢ýV)*+ÿE-«¢ý^)*+,Eÿ\\x8e¢ýb))+I«\\x92ª\\x95ýf)*)W¯\\x87d+,-O`xO1o3ú¦6æA\\x0c.**\\x14q51§\\x8b--.¤pIAEE\\x80¢rOúA\\x92A\"¤pO~X¤øz,-)z\\x90sA¤ø\\x0f)-)\\x14E~\\x8e¤ø\",))\\x8f_,Ý¤pªI\\x8f1\\x80¢rý«,-Wo_S+,-_ET¨o__),-æ\\x80-Ao_\"+)-\\x8e«ú\\x9do_-+,)\\x90A¯\\x90o_>+,-«,-W\\x16c\\\\,-~)}<\\x14s\\x94\\x14q\\t1úØ),-U¤g\\x8c=r\\x0c-*.!úr\\x97Wo-úØ+,-æp\\x81h\\x8b9ý¢..*\\x8d\\x98Boo\\x88,-.*', '\\x18;®$®I%Hr`\\x86\\n', '.tdat', '.cdat', 'adata', '.debug01', '_____ui', 'c____u_', '.cdata', '.bdata', '.bine7', '.opdw7', '.rema7', '.lo7c', '.samp7', '.welc7', '.musy7', 'INIT', '__L__u_', '.____', '_1', '_0', '_3', '_2', '_5', '_4', 'Hc%37c', 'JFsX_', '.bas', '.bas0', 'Xd_?_mf', '.feed', 'ID', 'LABEL']\n"
     ]
    }
   ],
   "source": [
    "print(len(dic_section))\n",
    "print(dic_section)"
   ]
  },
  {
   "cell_type": "code",
   "execution_count": 8,
   "metadata": {},
   "outputs": [],
   "source": [
    "malwarelist = np.genfromtxt('../Dataset/trainLabels.csv', delimiter=\",\", dtype=str)\n",
    "malwarelist = malwarelist[1:]"
   ]
  },
  {
   "cell_type": "code",
   "execution_count": 9,
   "metadata": {},
   "outputs": [
    {
     "name": "stdout",
     "output_type": "stream",
     "text": [
      "01kcPWA9K2BOxQeS5Rju   1\n",
      "04EjIdbPV5e1XroFOpiN   2\n",
      "05EeG39MTRrI6VY21DPd   3\n",
      "05rJTUWYAKNegBk2wE8X   4\n",
      "0AnoOZDNbPXIr2MRBSCJ   5\n",
      "0AwWs42SUQ19mI7eDcTC   6\n",
      "0cH8YeO15ZywEhPrJvmj   7\n",
      "0DNVFKwYlcjO7bTfJ5p1   8\n",
      "0DqUX5rkg3IbMY6BLGCE   9\n",
      "0eaNKwluUmkYdIvZ923c   10\n",
      "0fHVZKeTE6iRb1PIQ4au   11\n",
      "0G4hwobLuAzvl1PWYfmd   12\n",
      "0gkj92oIleU4SYiCWpaM   13\n",
      "0H63jydvIahOVqgx5Kfo   14\n",
      "0Hrfce4X5YGESJPjl9uL   15\n",
      "0I4ZVvngsAatm8fzD3pk   16\n",
      "0iBaz3krsQ8HuA7cGDSt   17\n",
      "0iS3pwlgJco8XORD4TLq   18\n",
      "0jkmvR43UQ9yKxqXei61   19\n",
      "0KigmP9TLwJXNGz26tfO   20\n",
      "0l6fhCty3aSLDOgAjYQi   21\n",
      "0MOorvEIRmZGhqQdc3TA   22\n",
      "0NEsQlDGnUMg3Bew7R1A   23\n",
      "0NyfGXt8nmlK72Q9Irhs   24\n",
      "0odUVkrjp2B1n8NDS6bR   25\n",
      "0pTO4SVnWDehgUlYBAvq   26\n",
      "0qpMX5CZU8mgD2kaRNVv   27\n",
      "0Rgetc1wAfxlzHTGBOa7   28\n",
      "0rgudc7PpbexCtBjNqWF   29\n",
      "0S7z4qxYTHPUDO8fgIyA   30\n",
      "0SIqXMkDBWKE8s9pQaOv   31\n",
      "0uNkt6sirCnUWw175pjl   32\n",
      "0WdoYq78xDkFMcIwRpmJ   33\n",
      "0X6U3SfcmbuZNodnH9qL   34\n",
      "0yBQ5dAc2gN4qx9YWuiS   35\n",
      "0YRDpBU67WrqEugkXlnd   36\n",
      "0ZHV6acpJ9KkAWPjEI71   37\n",
      "0ZiQmgtxzHe9v5O8Lf2k   38\n",
      "0ZTEyLXaWReMK3rYVCjv   39\n",
      "12TEseaJ4jnbyORqKxhf   40\n",
      "15loeAHtkJa8BuFi6Zry   41\n",
      "175ZU8ClOsnifz03ybcX   42\n",
      "19zYbuW3XONcEedv7xUl   43\n",
      "1aAwe4J9VHrsq8uEoZhf   44\n",
      "1AXVt0D9mSU26fL4iFGc   45\n",
      "1ckp5Ye83yzjIilWQCfm   46\n",
      "1Cub9LvOgMWkQqs3R2ef   47\n",
      "1CWtrEfORZDj7psmnToA   48\n"
     ]
    },
    {
     "ename": "KeyboardInterrupt",
     "evalue": "",
     "output_type": "error",
     "traceback": [
      "\u001b[1;31m---------------------------------------------------------------------------\u001b[0m",
      "\u001b[1;31mKeyboardInterrupt\u001b[0m                         Traceback (most recent call last)",
      "\u001b[1;32m<ipython-input-9-9e1b611a32df>\u001b[0m in \u001b[0;36m<module>\u001b[1;34m\u001b[0m\n\u001b[0;32m     17\u001b[0m                     \u001b[0mtemp\u001b[0m\u001b[1;33m[\u001b[0m\u001b[0mdic_section\u001b[0m\u001b[1;33m.\u001b[0m\u001b[0mindex\u001b[0m\u001b[1;33m(\u001b[0m\u001b[0msource_line\u001b[0m\u001b[1;33m)\u001b[0m\u001b[1;33m]\u001b[0m \u001b[1;33m=\u001b[0m \u001b[0mtemp\u001b[0m\u001b[1;33m[\u001b[0m\u001b[0mdic_section\u001b[0m\u001b[1;33m.\u001b[0m\u001b[0mindex\u001b[0m\u001b[1;33m(\u001b[0m\u001b[0msource_line\u001b[0m\u001b[1;33m)\u001b[0m\u001b[1;33m]\u001b[0m \u001b[1;33m+\u001b[0m \u001b[1;36m1\u001b[0m\u001b[1;33m\u001b[0m\u001b[1;33m\u001b[0m\u001b[0m\n\u001b[0;32m     18\u001b[0m                 \u001b[0mtemp\u001b[0m\u001b[1;33m[\u001b[0m\u001b[0mdic_section\u001b[0m\u001b[1;33m.\u001b[0m\u001b[0mindex\u001b[0m\u001b[1;33m(\u001b[0m\u001b[1;34m'ID'\u001b[0m\u001b[1;33m)\u001b[0m\u001b[1;33m]\u001b[0m \u001b[1;33m=\u001b[0m \u001b[0mname\u001b[0m\u001b[1;33m[\u001b[0m\u001b[1;36m0\u001b[0m\u001b[1;33m]\u001b[0m\u001b[1;33m.\u001b[0m\u001b[0mstrip\u001b[0m\u001b[1;33m(\u001b[0m\u001b[1;34m'\"'\u001b[0m\u001b[1;33m)\u001b[0m\u001b[1;33m\u001b[0m\u001b[1;33m\u001b[0m\u001b[0m\n\u001b[1;32m---> 19\u001b[1;33m                 \u001b[0mtemp\u001b[0m\u001b[1;33m[\u001b[0m\u001b[0mdic_section\u001b[0m\u001b[1;33m.\u001b[0m\u001b[0mindex\u001b[0m\u001b[1;33m(\u001b[0m\u001b[1;34m'LABEL'\u001b[0m\u001b[1;33m)\u001b[0m\u001b[1;33m]\u001b[0m \u001b[1;33m=\u001b[0m \u001b[0mname\u001b[0m\u001b[1;33m[\u001b[0m\u001b[1;36m1\u001b[0m\u001b[1;33m]\u001b[0m\u001b[1;33m\u001b[0m\u001b[1;33m\u001b[0m\u001b[0m\n\u001b[0m\u001b[0;32m     20\u001b[0m     \u001b[0mdata_to_write\u001b[0m\u001b[1;33m.\u001b[0m\u001b[0mappend\u001b[0m\u001b[1;33m(\u001b[0m\u001b[0mtemp\u001b[0m\u001b[1;33m)\u001b[0m\u001b[1;33m\u001b[0m\u001b[1;33m\u001b[0m\u001b[0m\n",
      "\u001b[1;31mKeyboardInterrupt\u001b[0m: "
     ]
    }
   ],
   "source": [
    "count = 0\n",
    "for name in malwarelist:\n",
    "    \n",
    "    nam = name[0].strip('\"')\n",
    "    nam = str(nam)\n",
    "    count = count + 1\n",
    "    print(nam, ' ', count)\n",
    "    temp = [0]*len(dic_section)\n",
    "    nam = path + nam + '.txt'\n",
    "    if name[0].strip('\"') not in wrong:\n",
    "        with open(nam) as f:\n",
    "            lines = f.readlines()\n",
    "            for source_line in lines:\n",
    "                if source_line == '\\n':  \n",
    "                    continue\n",
    "                if source_line in dic_section:\n",
    "                    temp[dic_section.index(source_line)] = temp[dic_section.index(source_line)] + 1\n",
    "            temp[dic_section.index('ID')] = name[0].strip('\"')\n",
    "            temp[dic_section.index('LABEL')] = name[1]\n",
    "    data_to_write.append(temp)"
   ]
  },
  {
   "cell_type": "code",
   "execution_count": null,
   "metadata": {},
   "outputs": [],
   "source": [
    "myFile = open('../Dataset/data/data_section/data_section.csv', 'w', newline='')\n",
    "with myFile:\n",
    "    writer = csv.writer(myFile)\n",
    "    writer.writerows(data_to_write)"
   ]
  },
  {
   "cell_type": "code",
   "execution_count": null,
   "metadata": {},
   "outputs": [],
   "source": []
  }
 ],
 "metadata": {
  "kernelspec": {
   "display_name": "Python 3",
   "language": "python",
   "name": "python3"
  },
  "language_info": {
   "codemirror_mode": {
    "name": "ipython",
    "version": 3
   },
   "file_extension": ".py",
   "mimetype": "text/x-python",
   "name": "python",
   "nbconvert_exporter": "python",
   "pygments_lexer": "ipython3",
   "version": "3.8.3"
  }
 },
 "nbformat": 4,
 "nbformat_minor": 4
}
