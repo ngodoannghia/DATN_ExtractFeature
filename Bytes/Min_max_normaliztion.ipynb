{
 "cells": [
  {
   "cell_type": "code",
   "execution_count": 7,
   "metadata": {},
   "outputs": [],
   "source": [
    "from PIL import Image\n",
    "import numpy as np\n",
    "import csv"
   ]
  },
  {
   "cell_type": "code",
   "execution_count": 8,
   "metadata": {},
   "outputs": [],
   "source": [
    "train_full='../Dataset/Bytes/data_to_traFull.csv'\n",
    "test='../Dataset/Bytes/data_to_test.csv'\n",
    "train='../Dataset/Bytes/data_to_train.csv'\n",
    "valid='../Dataset/Bytes/data_to_val.csv'"
   ]
  },
  {
   "cell_type": "code",
   "execution_count": 9,
   "metadata": {},
   "outputs": [],
   "source": [
    "new_train_data = np.genfromtxt(train, delimiter=\",\", dtype=str)\n",
    "tra_data= new_train_data[:,0:-2]\n",
    "tra_lab=new_train_data[:,-1]\n",
    "tra_name=new_train_data[:,-2]\n",
    "tra_lab=tra_lab.astype(np.int)\n",
    "tra_data=tra_data.astype(np.float)\n",
    "tra_min=np.min(tra_data,axis=0)\n",
    "tra_max=np.max(tra_data,axis=0)\n",
    "tra_dom=np.subtract(tra_max,tra_min)\n",
    "tra_dom=np.where(tra_dom == 0, 1, tra_dom)\n",
    "img = np.subtract(tra_data,tra_min)\n",
    "img = np.divide(img, tra_dom)\n",
    "img= img.tolist()\n",
    "\n",
    "for i in range(len(tra_lab)):\n",
    "    img[i].append(tra_name[i])\n",
    "    img[i].append(tra_lab[i])\n",
    "\n",
    "myFile = open('../Dataset/Bytes/normal_train.csv', 'w', newline='')  \n",
    "\n",
    "with myFile:  \n",
    "    writer = csv.writer(myFile)\n",
    "    writer.writerows(img)"
   ]
  },
  {
   "cell_type": "code",
   "execution_count": 10,
   "metadata": {},
   "outputs": [],
   "source": [
    "new_valid_data = np.genfromtxt(valid, delimiter=\",\", dtype=str)\n",
    "valid_data= new_valid_data[:,0:-2]\n",
    "valid_name=new_valid_data[:,-2]\n",
    "valid_lab=new_valid_data[:,-1]\n",
    "valid_lab=valid_lab.astype(np.int)\n",
    "valid_data=valid_data.astype(np.float)\n",
    "img = np.subtract(valid_data,tra_min)\n",
    "img = np.divide(img, tra_dom)\n",
    "img= img.tolist()\n",
    "\n",
    "for i in range(len(valid_lab)):\n",
    "    img[i].append(valid_name[i])\n",
    "    img[i].append(valid_lab[i])\n",
    "\n",
    "\n",
    "myFile = open('../Dataset/Bytes/normal_val.csv', 'w', newline='')  \n",
    "\n",
    "with myFile:  \n",
    "    writer = csv.writer(myFile)\n",
    "    writer.writerows(img)"
   ]
  },
  {
   "cell_type": "code",
   "execution_count": 13,
   "metadata": {},
   "outputs": [],
   "source": [
    "new_x_data = np.genfromtxt(train_full, delimiter=\",\", dtype=str)\n",
    "x_data= new_x_data[:,0:-2]\n",
    "x_name=new_x_data[:,-2]\n",
    "x_lab=new_x_data[:,-1]\n",
    "x_lab=x_lab.astype(np.int)\n",
    "x_data=x_data.astype(np.float)\n",
    "x_min=np.min(x_data,axis=0)\n",
    "x_max=np.max(x_data,axis=0)\n",
    "x_dom=np.subtract(x_max,x_min)\n",
    "x_dom=np.where(x_dom == 0, 1, x_dom)\n",
    "img = np.subtract(x_data,x_min)\n",
    "img = np.divide(img, x_dom)\n",
    "img= img.tolist()\n",
    "\n",
    "for i in range(len(x_lab)):\n",
    "    img[i].append(x_name[i])\n",
    "    img[i].append(x_lab[i])\n",
    "\n",
    "\n",
    "myFile = open('../Dataset/Bytes/normal_traFull.csv', 'w', newline='')  \n",
    "\n",
    "with myFile:  \n",
    "    writer = csv.writer(myFile)\n",
    "    writer.writerows(img)"
   ]
  },
  {
   "cell_type": "code",
   "execution_count": 14,
   "metadata": {},
   "outputs": [],
   "source": [
    "\n",
    "new_test_data = np.genfromtxt(test, delimiter=\",\", dtype=str)\n",
    "test_data= new_test_data[:,0:-2]\n",
    "test_lab=new_test_data[:,-1]\n",
    "test_name=new_test_data[:,-2]\n",
    "test_lab=test_lab.astype(np.int)\n",
    "test_data=test_data.astype(np.float)\n",
    "img = np.subtract(test_data,x_min)\n",
    "img = np.divide(img, x_dom)\n",
    "img= img.tolist()\n",
    "\n",
    "for i in range(len(test_lab)):\n",
    "    img[i].append(test_name[i])\n",
    "    img[i].append(test_lab[i])\n",
    "\n",
    "\n",
    "myFile = open('../Dataset/Bytes/normal_test.csv', 'w', newline='')  \n",
    "\n",
    "with myFile:  \n",
    "    writer = csv.writer(myFile)\n",
    "    writer.writerows(img)"
   ]
  },
  {
   "cell_type": "code",
   "execution_count": null,
   "metadata": {},
   "outputs": [],
   "source": []
  }
 ],
 "metadata": {
  "kernelspec": {
   "display_name": "Python 3",
   "language": "python",
   "name": "python3"
  },
  "language_info": {
   "codemirror_mode": {
    "name": "ipython",
    "version": 3
   },
   "file_extension": ".py",
   "mimetype": "text/x-python",
   "name": "python",
   "nbconvert_exporter": "python",
   "pygments_lexer": "ipython3",
   "version": "3.8.5"
  }
 },
 "nbformat": 4,
 "nbformat_minor": 4
}
